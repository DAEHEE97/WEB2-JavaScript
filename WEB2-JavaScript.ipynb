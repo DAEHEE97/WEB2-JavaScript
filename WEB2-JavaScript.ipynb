{
 "cells": [
  {
   "cell_type": "markdown",
   "metadata": {},
   "source": [
    "# WEB2-JavaScript\n",
    "\n",
    "- 웹 브라우저는 한번 출력되면, 바꿀수 없다.\n",
    "\n",
    "- JavaScript는 사용자와 상호작용을 하는 언어 이다.\n",
    "\n",
    "- vs `cmd shift L`\n",
    "\n",
    "JavaScript가 HTML 을 제어하는 언어로, 웹 페이지를 동적으로, 다이나믹하게 만들어 준다.\n"
   ]
  },
  {
   "cell_type": "markdown",
   "metadata": {},
   "source": [
    "---"
   ]
  },
  {
   "cell_type": "markdown",
   "metadata": {},
   "source": [
    "## script 태그\n",
    "\n",
    "- HTML 안에서 동적으로 작용\n",
    "\n",
    "```script.html\n",
    "\n",
    "<h1>JavaScript</h1>\n",
    "\n",
    "<script>\n",
    "  document.write(1+1);\n",
    "</script>\n",
    "\n",
    "<h1>html</h1>\n",
    "1+1\n",
    "\n",
    "```"
   ]
  },
  {
   "cell_type": "markdown",
   "metadata": {},
   "source": [
    "---"
   ]
  },
  {
   "cell_type": "markdown",
   "metadata": {},
   "source": [
    "## Event (이벤트)\n",
    "\n",
    "- 웹 브라우저 위에서 일어나는 사건 \n",
    "\n",
    "\n",
    "```event.html\n",
    "\n",
    "<input type=\"button\" value=\"Button\" onclick=\"alert('hi')\">\n",
    "\n",
    "<input type=\"text\" onchange=\"alert('changed')\">\n",
    "\n",
    "<input type=\"text\" onkeydown=\"alert('key down!')\">\n",
    "\n",
    "```"
   ]
  },
  {
   "cell_type": "markdown",
   "metadata": {},
   "source": [
    "---"
   ]
  },
  {
   "cell_type": "markdown",
   "metadata": {},
   "source": [
    "## Console (콘솔)\n",
    "\n",
    "- `F12` 콘솔창에서 script 언어 사용 가능"
   ]
  },
  {
   "cell_type": "markdown",
   "metadata": {},
   "source": [
    "---"
   ]
  },
  {
   "cell_type": "markdown",
   "metadata": {},
   "source": [
    "## 문자열과 숫자"
   ]
  },
  {
   "cell_type": "markdown",
   "metadata": {},
   "source": [
    "---"
   ]
  },
  {
   "cell_type": "markdown",
   "metadata": {},
   "source": [
    "## 변수와 대입 연산자"
   ]
  },
  {
   "cell_type": "markdown",
   "metadata": {},
   "source": [
    "---"
   ]
  },
  {
   "cell_type": "markdown",
   "metadata": {},
   "source": [
    "## CSS - style\n",
    "\n",
    "### style 속성을 이용해서 CSS 사용하기\n",
    "\n",
    "`<body id = 'target' style=\"background-color: black; color:white\">`\n",
    "\n",
    "\n",
    "### style 태그를 이용해서 CSS 사용하기\n",
    "\n",
    "`<div> </div>` 무색무취 태그 (줄바꿈)\n",
    "\n",
    "`<span> </span>` 무색무취 태그\n",
    "\n",
    "\n",
    "### CSS 선택자\n",
    "\n",
    "- 클래스 : `.js`\n",
    "\n",
    "\n",
    "- id(identifier) : `#first`  - 최우선순위\n",
    "\n",
    "\n",
    "- tag : `span`"
   ]
  },
  {
   "cell_type": "markdown",
   "metadata": {},
   "source": [
    "---"
   ]
  },
  {
   "cell_type": "markdown",
   "metadata": {},
   "source": [
    "```ex3.html\n",
    "<!doctype html>\n",
    "<html>\n",
    "\n",
    "<head>\n",
    "  <style>\n",
    "    .js{\n",
    "      font-weight: bold;\n",
    "      color:red;\n",
    "    }\n",
    "    #first{\n",
    "      color:green;\n",
    "    }\n",
    "    span{\n",
    "      color:blue;\n",
    "    }\n",
    "  </style>\n",
    "</head>\n",
    "\n",
    "<body>\n",
    "  <h1><a href=\"index.html\">WEB</a></h1>\n",
    "  <h2 style=\"background-color:coral;color:powderblue;\">JavaScript</h2>\n",
    "  <p>\n",
    "    <span id=\"first\" class=\"js\">JavaScript</span> \n",
    "    (/ˈdʒɑːvəˌskrɪpt/[6]), often abbreviated as JS, is a high-level, dynamic, weakly typed, prototype-based, multi-paradigm, and interpreted programming language. \n",
    "    Alongside <span>HTML</span> and <span>CSS</span>, <span class=\"js\">JavaScript</span> is one of the three core technologies of World Wide Web content production.\n",
    "    It is used to make webpages interactive and provide online programs, including video games. \n",
    "    The majority of websites employ it, and all modern web browsers support it without the need for plug-ins by means of a built-in <span class=\"js\">JavaScript</span> engine. \n",
    "    Each of the many <span class=\"js\">JavaScript</span> engines represent a different implementation of <span class=\"js\">JavaScript</span>, all based on the ECMAScript specification, with some engines not supporting the spec fully, and with many engines supporting additional features beyond ECMA.\n",
    "  </p>\n",
    "</body>\n",
    "\n",
    "</html>\n",
    "\n",
    "```"
   ]
  },
  {
   "cell_type": "markdown",
   "metadata": {},
   "source": [
    "---"
   ]
  },
  {
   "cell_type": "markdown",
   "metadata": {},
   "source": [
    "## 웹브라우저  제어 - 버튼 2 개\n",
    "\n",
    "제어할 태그 선택하기 \n",
    "\n",
    "- `document.querySelector('body').style ~` : body 태그 부분 변경\n",
    "\n",
    "\n",
    "- `document.querySelector('#target').style ~` : id 부분 변경\n",
    "\n"
   ]
  },
  {
   "cell_type": "markdown",
   "metadata": {},
   "source": [
    "```3.html\n",
    "\n",
    "<!doctype html>\n",
    "<html>\n",
    "\n",
    "<head>\n",
    "  <title>WEB1 - JavaScript</title>\n",
    "  <meta charset=\"utf-8\">\n",
    "</head>\n",
    "\n",
    "<body id = 'target' style=\"background-color: black; color:white\">\n",
    "  \n",
    "  <h1><a href=\"index.html\">WEB</a></h1>\n",
    "\n",
    "  <input type=\"button\" value=\"Night\" onclick=\"\n",
    "    document.querySelector('#target').style.backgroundColor = 'black';\n",
    "    document.querySelector('#target').style.color = 'white';\n",
    "  \">\n",
    "  <input type=\"button\" value=\"Day\" onclick=\"\n",
    "    document.querySelector('body').style.backgroundColor = 'white';\n",
    "    document.querySelector('body').style.color = 'black';\n",
    "  \">\n",
    "\n",
    "  <ol>\n",
    "    <li><a href=\"1.html\">HTML</a></li>\n",
    "    <li><a href=\"2.html\">CSS</a></li>\n",
    "    <li><a href=\"3.html\">JavaScript</a></li>\n",
    "  </ol>\n",
    "\n",
    "  <h2>JavaScript</h2>\n",
    "  \n",
    "  <p>\n",
    "    JavaScript (/ˈdʒɑːvəˌskrɪpt/[6]), often abbreviated as JS, is a high-level, dynamic, weakly typed, prototype-based, multi-paradigm, and interpreted programming language. Alongside HTML and CSS, JavaScript is one of the three core technologies of World Wide Web content production. It is used to make webpages interactive and provide online programs, including video games. The majority of websites employ it, and all modern web browsers support it without the need for plug-ins by means of a built-in JavaScript engine. Each of the many JavaScript engines represent a different implementation of JavaScript, all based on the ECMAScript specification, with some engines not supporting the spec fully, and with many engines supporting additional features beyond ECMA.\n",
    "  </p>\n",
    "\n",
    "</body>\n",
    "\n",
    "</html>\n",
    "\n",
    "\n",
    "```"
   ]
  },
  {
   "cell_type": "markdown",
   "metadata": {},
   "source": [
    "---"
   ]
  },
  {
   "cell_type": "markdown",
   "metadata": {},
   "source": [
    "## 조건문"
   ]
  },
  {
   "cell_type": "markdown",
   "metadata": {},
   "source": [
    "---"
   ]
  },
  {
   "cell_type": "markdown",
   "metadata": {},
   "source": [
    "## 비교 연산자, Boolean 데이터 타입\n",
    "\n",
    "\n",
    "- `==` :`===` \n",
    "\n",
    "- `1 < 2` : `1&lt;2`\n",
    "\n",
    "- `3 > 1` : `3&gt;1`"
   ]
  },
  {
   "cell_type": "markdown",
   "metadata": {},
   "source": [
    "---"
   ]
  },
  {
   "cell_type": "markdown",
   "metadata": {},
   "source": [
    "```ex4.html\n",
    "\n",
    "  <body>\n",
    "    <h1>Comparison operators & Boolean</h1>\n",
    "    \n",
    "    <h2>===</h2>\n",
    "\n",
    "    <h3>1===1</h3>\n",
    "    <script>\n",
    "      document.write(1===1);\n",
    "    </script>\n",
    "\n",
    "    <h3>1===2</h3>\n",
    "    <script>\n",
    "      document.write(1===2);\n",
    "    </script>\n",
    "\n",
    "    <h3>1&lt;2</h3>\n",
    "    <script>\n",
    "      document.write(1<2);\n",
    "    </script>\n",
    "\n",
    "    <h3>3&gt;1</h3>\n",
    "    <script>\n",
    "      document.write(3>1);\n",
    "    </script>\n",
    "\n",
    "  </body>\n",
    "\n",
    "\n",
    "```"
   ]
  },
  {
   "cell_type": "markdown",
   "metadata": {},
   "source": [
    "---"
   ]
  },
  {
   "cell_type": "markdown",
   "metadata": {},
   "source": [
    "## 조건문 - 버튼 1개\n",
    "\n",
    "\n",
    "```.html\n",
    "\n",
    "<!doctype html>\n",
    "<html>\n",
    "\n",
    "<head>\n",
    "  <title>WEB2 - JavaScript</title>\n",
    "  <meta charset=\"utf-8\">\n",
    "</head>\n",
    "\n",
    "<body>\n",
    "  \n",
    "  <h1><a href=\"index.html\">WEB</a></h1>\n",
    "\n",
    "  <input id=\"night_day\" type=\"button\" value=\"night\" onclick=\"\n",
    "  \n",
    "     if(document.querySelector('#night_day').value === 'night'){\n",
    "       document.querySelector('body').style.backgroundColor = 'black';\n",
    "       document.querySelector('body').style.color = 'white';\n",
    "\n",
    "       document.querySelector('#night_day').value = 'day';\n",
    "     } else {\n",
    "       document.querySelector('body').style.backgroundColor = 'white';\n",
    "       document.querySelector('body').style.color = 'black';\n",
    "       \n",
    "       document.querySelector('#night_day').value = 'night';\n",
    "     }\n",
    "   \">\n",
    "\n",
    "</body>\n",
    "\n",
    "</html>\n",
    "```\n"
   ]
  },
  {
   "cell_type": "markdown",
   "metadata": {},
   "source": [
    "---"
   ]
  },
  {
   "cell_type": "markdown",
   "metadata": {},
   "source": [
    "## Refactoring - this, target 중복 제거 \n",
    "\n",
    "```.html\n",
    "<!doctype html>\n",
    "<html>\n",
    "\n",
    "<head>\n",
    "  <title>WEB2 - JavaScript</title>\n",
    "  <meta charset=\"utf-8\">\n",
    "</head>\n",
    "\n",
    "<body>\n",
    "  \n",
    "  <h1><a href=\"index.html\">WEB</a></h1>\n",
    "\n",
    "  <input id=\"night_day\" type=\"button\" value=\"night\" onclick=\"\n",
    "  \n",
    "     if(document.querySelector('#night_day').value === 'night'){\n",
    "       document.querySelector('body').style.backgroundColor = 'black';\n",
    "       document.querySelector('body').style.color = 'white';\n",
    "\n",
    "       document.querySelector('#night_day').value = 'day';\n",
    "     } \n",
    "     else {\n",
    "       document.querySelector('body').style.backgroundColor = 'white';\n",
    "       document.querySelector('body').style.color = 'black';\n",
    "       \n",
    "       document.querySelector('#night_day').value = 'night';\n",
    "     }\n",
    "   \">\n",
    "\n",
    "</body>\n",
    "\n",
    "</html>\n",
    "```\n",
    "\n",
    "\n",
    "\n",
    "\n",
    "---\n",
    "\n",
    "\n",
    "```.html\n",
    "<!doctype html>\n",
    "<html>\n",
    "\n",
    "<head>\n",
    "  <title>WEB2 - JavaScript</title>\n",
    "  <meta charset=\"utf-8\">\n",
    "</head>\n",
    "\n",
    "<body>\n",
    "  \n",
    "  <h1><a href=\"index.html\">WEB</a></h1>\n",
    "\n",
    "\n",
    "  <input type=\"button\" value=\"night\" onclick=\"\n",
    "\n",
    "    var target = document.querySelector('body');\n",
    "\n",
    "     if(this.value === 'night'){\n",
    "        target.style.backgroundColor = 'black';\n",
    "        target.style.color = 'white';\n",
    "\n",
    "       this.value = 'day';\n",
    "     } \n",
    "     else {\n",
    "        target.style.backgroundColor = 'white';\n",
    "        target.style.color = 'black';\n",
    "       \n",
    "      this.value = 'night';\n",
    "     }\n",
    "   \">\n",
    "\n",
    "</body>\n",
    "\n",
    "</html>\n",
    "\n",
    "\n",
    "```\n",
    "\n",
    "\n"
   ]
  },
  {
   "cell_type": "markdown",
   "metadata": {},
   "source": [
    "---"
   ]
  },
  {
   "cell_type": "markdown",
   "metadata": {},
   "source": [
    "## Loop (반복문)"
   ]
  },
  {
   "cell_type": "markdown",
   "metadata": {},
   "source": [
    "---"
   ]
  },
  {
   "cell_type": "markdown",
   "metadata": {},
   "source": [
    "## Array (배열)"
   ]
  },
  {
   "cell_type": "markdown",
   "metadata": {},
   "source": [
    "---"
   ]
  },
  {
   "cell_type": "markdown",
   "metadata": {},
   "source": [
    "## console command\n",
    "\n",
    "`var alist = document.querySelectorAll('a');`\n",
    "\n",
    " : `<a >`anchor 모두 노드 리스트로 반환\n",
    "\n",
    "\n",
    "`console.log(alist[0])` : 노드 리스트 idx 0 값을 콘솔창에 값 나타냄\n",
    "\n",
    "\n",
    "`console.log(alist[1])` : 노드 리스트 idx 1 값을 콘솔창에 값 나타냄\n",
    "\n",
    "\n",
    "`console.log(alist.length)` : 노드 리스트 길이 값을 콘솔창에 값 나타냄\n",
    "\n",
    "\n",
    "```\n",
    "var alist = document.querySelectorAll('a');\n",
    "\n",
    "i = 0;\n",
    "\n",
    "while(i < alist.length):\n",
    "    console.log(alist[i])\n",
    "    \n",
    "    alist[i].style.coler = \n",
    "    \n",
    "    i = i +1\n",
    "\n",
    "```"
   ]
  },
  {
   "cell_type": "markdown",
   "metadata": {},
   "source": [
    "---"
   ]
  },
  {
   "cell_type": "markdown",
   "metadata": {},
   "source": [
    "## Refactoring  - 배열과 반복문의 활용\n",
    "\n",
    "\n",
    "반복문과 배열을 활용하여, css 스타일 옵션 처리\n",
    "\n",
    "\n",
    "- `document.querySelector('a');`\n",
    "\n",
    "- `document.querySelectorAll('a');` : `<a >`anchor 모두 노드 리스트로 반환\n",
    "\n",
    "```.html\n",
    "<!doctype html>\n",
    "<html>\n",
    "\n",
    "<head>\n",
    "  <title>WEB2 - JavaScript</title>\n",
    "  <meta charset=\"utf-8\">\n",
    "</head>\n",
    "\n",
    "<body>\n",
    "  \n",
    "  <h1><a href=\"index.html\">WEB</a></h1>\n",
    "\n",
    "  <input id=\"night_day\" type=\"button\" value=\"night\" onclick=\"\n",
    "     \n",
    "     var target = document.querySelector('body');\n",
    "     \n",
    "     if(document.querySelector('#night_day').value === 'night'){\n",
    "       document.querySelector('body').style.backgroundColor = 'black';\n",
    "       document.querySelector('body').style.color = 'white';\n",
    "\n",
    "       document.querySelector('#night_day').value = 'day';\n",
    "\n",
    "       var alist = document.querySelectorAll('a');\n",
    "       \n",
    "       var i = 0;\n",
    "       while(i < alist.length){\n",
    "        alist[i].style.color = 'powderblue';\n",
    "        i = i + 1;\n",
    "        \n",
    "      }\n",
    "     } else {\n",
    "       document.querySelector('body').style.backgroundColor = 'white';\n",
    "       document.querySelector('body').style.color = 'black';\n",
    "\n",
    "       document.querySelector('#night_day').value = 'night';\n",
    "       \n",
    "       var alist = document.querySelectorAll('a');\n",
    "       \n",
    "       var i = 0;\n",
    "       while(i < alist.length){\n",
    "        alist[i].style.color = 'red';\n",
    "        i = i + 1;\n",
    "        \n",
    "      }  \n",
    "\n",
    "     }\n",
    "   \">\n",
    "\n",
    "</body>\n",
    "\n",
    "</html>\n",
    "```"
   ]
  },
  {
   "cell_type": "markdown",
   "metadata": {},
   "source": [
    "---"
   ]
  },
  {
   "cell_type": "markdown",
   "metadata": {},
   "source": [
    "## Function (함수)\n",
    "\n",
    "\n",
    "- Parameter & Argument\n",
    "\n",
    "- return\n",
    "\n",
    "- self\n",
    "\n",
    "- this\n"
   ]
  },
  {
   "cell_type": "markdown",
   "metadata": {},
   "source": [
    "## Refactoring - Function\n",
    "\n",
    "```.html\n",
    "<!doctype html>\n",
    "<html>\n",
    "\n",
    "<head>\n",
    "  <title>WEB2 - JavaScript</title>\n",
    "  <meta charset=\"utf-8\">\n",
    "\n",
    "  <script>\n",
    "  function NightDayhandler(self){\n",
    "    var target = document.querySelector('body');\n",
    "     \n",
    "    if(self.value === 'night'){\n",
    "      target.style.backgroundColor = 'black';\n",
    "      target.style.color = 'white';\n",
    "      self.value = 'day';\n",
    "\n",
    "      var alist = document.querySelectorAll('a');\n",
    "      var i = 0;\n",
    "      while(i < alist.length){\n",
    "       alist[i].style.color = 'powderblue';\n",
    "       i = i + 1;\n",
    "     }\n",
    "    } else {\n",
    "      target.style.backgroundColor = 'white';\n",
    "      target.style.color = 'black';\n",
    "      self.value = 'night';\n",
    "      \n",
    "      var alist = document.querySelectorAll('a');\n",
    "      var i = 0;\n",
    "      while(i < alist.length){\n",
    "       alist[i].style.color = 'red';\n",
    "       i = i + 1;\n",
    "     }  \n",
    "\n",
    "    }\n",
    "\n",
    "  }\n",
    "</script>\n",
    "</head>\n",
    "\n",
    "<body>\n",
    "  \n",
    "  <h1><a href=\"index.html\">WEB</a></h1>\n",
    "\n",
    "  <input id=\"night_day\" type=\"button\" value=\"night\" onclick=\"\n",
    "     NightDayhandler(this);\n",
    "\n",
    "   \">\n",
    "\n",
    "  <ol>\n",
    "    <li><a href=\"1.html\">HTML</a></li>\n",
    "    <li><a href=\"2.html\">CSS</a></li>\n",
    "    <li><a href=\"3.html\">JavaScript</a></li>\n",
    "  </ol>\n",
    "\n",
    "  <h2>JavaScript</h2>\n",
    "  \n",
    "  <p>\n",
    "    JavaScript (/ˈdʒɑːvəˌskrɪpt/[6]), often abbreviated as JS, is a high-level, dynamic, weakly typed, prototype-based, multi-paradigm, and interpreted programming language. Alongside HTML and CSS, JavaScript is one of the three core technologies of World Wide Web content production. It is used to make webpages interactive and provide online programs, including video games. The majority of websites employ it, and all modern web browsers support it without the need for plug-ins by means of a built-in JavaScript engine. Each of the many JavaScript engines represent a different implementation of JavaScript, all based on the ECMAScript specification, with some engines not supporting the spec fully, and with many engines supporting additional features beyond ECMA.\n",
    "  </p>\n",
    "\n",
    "</body>\n",
    "\n",
    "</html>\n",
    "\n",
    "```\n",
    "\n"
   ]
  },
  {
   "cell_type": "markdown",
   "metadata": {},
   "source": [
    "---"
   ]
  },
  {
   "cell_type": "markdown",
   "metadata": {},
   "source": [
    "## Object (객체)\n",
    "\n",
    "- 생성, 입력, 출력\n",
    "\n",
    "- Property (객체 소속 변수) & Method (객체 소속 함수)\n",
    "     - 둘다 `key` : method 도 클래스내 `key`로 [coworker.showall] 이므로 key 출력시 method key 도 출력됨\n",
    "\n"
   ]
  },
  {
   "cell_type": "markdown",
   "metadata": {},
   "source": [
    "## Refactoring - Object\n",
    "\n",
    "\n",
    "```.html\n",
    "\n",
    "<!doctype html>\n",
    "<html>\n",
    "\n",
    "<head>\n",
    "  <title>WEB2 - JavaScript</title>\n",
    "  <meta charset=\"utf-8\">\n",
    "\n",
    "  <script>\n",
    "\n",
    "  var Links = {\n",
    "    setColor:function(color){\n",
    "      var alist = document.querySelectorAll('a');\n",
    "      var i = 0;\n",
    "      while(i < alist.length){\n",
    "        alist[i].style.color = color;\n",
    "        i = i + 1;\n",
    "      }\n",
    "    }\n",
    "  }\n",
    "\n",
    "  var Body = {\n",
    "    setColor:function (color){\n",
    "      document.querySelector('body').style.color = color;\n",
    "    },\n",
    "    setBackgroundColor:function (color){\n",
    "      document.querySelector('body').style.backgroundColor = color;\n",
    "    }\n",
    "  }\n",
    "\n",
    "\n",
    "  function NightDayhandler(self){\n",
    "    var target = document.querySelector('body');\n",
    "     \n",
    "    if(self.value === 'night'){\n",
    "      Body.backgroundColor = 'black';\n",
    "      Body.color = 'white';\n",
    "      self.value = 'day';\n",
    "\n",
    "      Links.setColor('powderblue')\n",
    "\n",
    "    } else {\n",
    "      Body.backgroundColor = 'white';\n",
    "      Body.color = 'black';\n",
    "      self.value = 'night';\n",
    "      \n",
    "      Links.setColor('red')\n",
    "    }\n",
    "\n",
    "  }\n",
    "</script>\n",
    "</head>\n",
    "\n",
    "<body>\n",
    "  \n",
    "  <h1><a href=\"index.html\">WEB</a></h1>\n",
    "\n",
    "  <input id=\"night_day\" type=\"button\" value=\"night\" onclick=\"\n",
    "     NightDayhandler(this);\n",
    "\n",
    "   \">\n",
    "\n",
    "  <ol>\n",
    "    <li><a href=\"1.html\">HTML</a></li>\n",
    "    <li><a href=\"2.html\">CSS</a></li>\n",
    "    <li><a href=\"3.html\">JavaScript</a></li>\n",
    "  </ol>\n",
    "\n",
    "  <h2>JavaScript</h2>\n",
    "  \n",
    "  <p>\n",
    "    JavaScript (/ˈdʒɑːvəˌskrɪpt/[6]), often abbreviated as JS, is a high-level, dynamic, weakly typed, prototype-based, multi-paradigm, and interpreted programming language. Alongside HTML and CSS, JavaScript is one of the three core technologies of World Wide Web content production. It is used to make webpages interactive and provide online programs, including video games. The majority of websites employ it, and all modern web browsers support it without the need for plug-ins by means of a built-in JavaScript engine. Each of the many JavaScript engines represent a different implementation of JavaScript, all based on the ECMAScript specification, with some engines not supporting the spec fully, and with many engines supporting additional features beyond ECMA.\n",
    "  </p>\n",
    "\n",
    "</body>\n",
    "\n",
    "</html>\n",
    "\n",
    "\n",
    "\n",
    "```"
   ]
  },
  {
   "cell_type": "markdown",
   "metadata": {},
   "source": [
    "---"
   ]
  },
  {
   "cell_type": "markdown",
   "metadata": {},
   "source": [
    "## file (파일)"
   ]
  },
  {
   "cell_type": "markdown",
   "metadata": {},
   "source": [
    "---"
   ]
  },
  {
   "cell_type": "markdown",
   "metadata": {},
   "source": [
    "## 라이브러리 프레임워크"
   ]
  },
  {
   "cell_type": "markdown",
   "metadata": {},
   "source": [
    "---"
   ]
  },
  {
   "cell_type": "markdown",
   "metadata": {},
   "source": [
    "## UI vs API"
   ]
  },
  {
   "cell_type": "markdown",
   "metadata": {},
   "source": [
    "---"
   ]
  },
  {
   "cell_type": "markdown",
   "metadata": {},
   "source": [
    "---"
   ]
  }
 ],
 "metadata": {
  "hide_input": false,
  "kernelspec": {
   "display_name": "Python 3",
   "language": "python",
   "name": "python3"
  },
  "language_info": {
   "codemirror_mode": {
    "name": "ipython",
    "version": 3
   },
   "file_extension": ".py",
   "mimetype": "text/x-python",
   "name": "python",
   "nbconvert_exporter": "python",
   "pygments_lexer": "ipython3",
   "version": "3.8.5"
  },
  "toc": {
   "base_numbering": 1,
   "nav_menu": {},
   "number_sections": true,
   "sideBar": true,
   "skip_h1_title": false,
   "title_cell": "Table of Contents",
   "title_sidebar": "Contents",
   "toc_cell": false,
   "toc_position": {},
   "toc_section_display": true,
   "toc_window_display": true
  }
 },
 "nbformat": 4,
 "nbformat_minor": 4
}
